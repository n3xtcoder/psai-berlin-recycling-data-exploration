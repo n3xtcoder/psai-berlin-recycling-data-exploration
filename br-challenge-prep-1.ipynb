{
 "cells": [
  {
   "cell_type": "markdown",
   "metadata": {},
   "source": [
    "# AI for Public Sector - Berlin Recyling challenge: Data Exploration\n",
    "\n",
    "## Challenge description\n",
    "\n",
    "The challenge is described roughly on the [N3xtcoder website](https://n3xtcoder.org/empower-logistics-with-ai) and, at this time, includes 3 projects (each with their own goal, objective and metric): \n",
    "\n",
    "### Project 1: \n",
    "#### Goal\n",
    "Identify criteria for maintaining the health (and satisfaction) of waste workers and create a model.\n",
    "\n",
    "#### Objective\n",
    "Maximizing health & productivity.\n",
    "\n",
    "#### Metric\n",
    "Projected increase in productive days. Decrease in sickness and absence.\n",
    "Improve the vacation planning and request process of drivers/loaders in order to decrease sick-days and non-ideal vacation-distribution. \n",
    "\n",
    "#### Why? (Background) \n",
    "Statistics seem to show a correlation between a vacation approval process that is non-ideal for the employee on the one hand and number of sick-days for that employee on the other hand. That triggers issues like skipped tours, which in return decreases customer satisfaction, employee satisfaction (because of more intense workload) and increases process-overhead/costs (customer support) and potentially losing contracts. \n",
    "\n",
    "\n",
    "### Project 2: \n",
    "#### Goal\n",
    "Create a model that can predict the probability of tour cancellations.\n",
    "\n",
    "#### Objective\n",
    "Minimize tour failure & maximize prediction accuracy aka planning accuracy.\n",
    "\n",
    "#### Metric\n",
    "Projected reduction in the number of canceled pickups per tour.\n",
    "\n",
    "\n",
    "\n",
    "### Project 3: \n",
    "#### Goal\n",
    "Create a model for the dynamic rescheduling of schedules (assignment of personnel to tours), in the event of short-term changes.\n",
    "\n",
    "#### Objective\n",
    "Transition from static to dynamic route planning using internal and external data sources.\n",
    "\n",
    "#### Metric\n",
    "Projected maintenance of average occupancy of the planned tour at peak efficiency levels.\n",
    "\n",
    "\n",
    "## This notebook...\n",
    "is about very early exploration of the provided test (anonymized) datasets that Berlin Recyling provided to us. \n"
   ]
  },
  {
   "cell_type": "markdown",
   "metadata": {},
   "source": [
    "## Suggestions for next Todos / to clarify (N3xtcoder internally)\n",
    "- [x] Try to load the dataset in a VSCode (devcontainer based) Jupyter notebook (didn't succeed immediately)\n",
    "- [x] Start notebook on Kaggle\n",
    "- [x] Integrate dataset files\n",
    "- [x] Define helper function\n",
    "- [x] Load all datasets\n",
    "- [x] Fix issue with inconsistent header-column seperator chars (outlier: \"Auftr„ge.csv\")\n",
    "- [x] Agree on a rough evaluation: do we see any potential for ML generating helpful/actionable insights with the given data model?\n",
    "- [x] Improve column namings (English, writing conventions)\n",
    "\n",
    "- [ ] Tryout Microsoft Data Science/ML tools with the dataset\n",
    "- [ ] Are the data references all valid (no cross reference between datasets/'tables' to non-existing keys?)?\n",
    "- [ ] Generate basic data exploration insights\n",
    "\n",
    "- [ ] Check additional external data sources whether they could be of any value (see below)"
   ]
  },
  {
   "cell_type": "markdown",
   "metadata": {},
   "source": [
    "## Identified issues with dataset\n",
    "* The orders file/table (\"Auftr„ge.csv\") uses a different header-column seperator: tabs instead of commas"
   ]
  },
  {
   "cell_type": "markdown",
   "metadata": {},
   "source": [
    "## Other potential interesting external data sources\n",
    "  * https://www.kaggle.com/datasets/HRAnalyticRepository/absenteeism-dataset\n",
    "    * \"Absenteeism- is a major expense to most organizations. Getting a handle on it, predicting it and affecting it is important for organizations. This dataset provided for HR data scientists to practice on\"\n",
    "  * https://viz.berlin.de/verkehr-in-berlin/verkehrslage/\n",
    "    * \"Die Verkehrslagekarte Berlin zeigt Ihnen wo der Verkehr störungsfrei fließt (grün) und wo Sie mit Verkehrsbehinderungen (gelb) oder Stau (rot) rechnen müssen.\"\n",
    "    * based probably on this dataset: https://daten.berlin.de/datensaetze/verkehrsdetektion-berlin\n",
    "    * looks interesting since it has regularly updated traffic data which could be used to  e.g. find out whether there are correlations between traffic intensity of tours and sick leaves\n"
   ]
  },
  {
   "cell_type": "markdown",
   "metadata": {},
   "source": [
    "## Prep (define helper functions etc)"
   ]
  },
  {
   "cell_type": "markdown",
   "metadata": {},
   "source": [
    "## Recommendation\n",
    "Before getting started, create a dedicated Python environment, e.g. via: \n",
    "\n",
    "```python3 -m venv venv```\n",
    "\n",
    "Then activate this environment via: \n",
    "\n",
    "```source venv/bin/activate```\n",
    "\n",
    "You also should install [Jupyter or Jupyter Lab](https://jupyter.org/). \n",
    "\n",
    "One comfortable way to run this notebook is via Visual Studio Code with the Jupyter extension. "
   ]
  },
  {
   "cell_type": "code",
   "execution_count": 2,
   "metadata": {},
   "outputs": [
    {
     "name": "stdout",
     "output_type": "stream",
     "text": [
      "Collecting numpy\n",
      "  Obtaining dependency information for numpy from https://files.pythonhosted.org/packages/1a/2e/151484f49fd03944c4a3ad9c418ed193cfd02724e138ac8a9505d056c582/numpy-1.26.4-cp311-cp311-macosx_11_0_arm64.whl.metadata\n",
      "  Downloading numpy-1.26.4-cp311-cp311-macosx_11_0_arm64.whl.metadata (114 kB)\n",
      "\u001b[2K     \u001b[90m━━━━━━━━━━━━━━━━━━━━━━━━━━━━━━━━━━━━━━━\u001b[0m \u001b[32m114.8/114.8 kB\u001b[0m \u001b[31m3.2 MB/s\u001b[0m eta \u001b[36m0:00:00\u001b[0m00:01\u001b[0m\n",
      "\u001b[?25hDownloading numpy-1.26.4-cp311-cp311-macosx_11_0_arm64.whl (14.0 MB)\n",
      "\u001b[2K   \u001b[90m━━━━━━━━━━━━━━━━━━━━━━━━━━━━━━━━━━━━━━━━\u001b[0m \u001b[32m14.0/14.0 MB\u001b[0m \u001b[31m17.9 MB/s\u001b[0m eta \u001b[36m0:00:00\u001b[0m00:01\u001b[0m00:01\u001b[0m\n",
      "\u001b[?25hInstalling collected packages: numpy\n",
      "Successfully installed numpy-1.26.4\n",
      "\n",
      "\u001b[1m[\u001b[0m\u001b[34;49mnotice\u001b[0m\u001b[1;39;49m]\u001b[0m\u001b[39;49m A new release of pip is available: \u001b[0m\u001b[31;49m23.2.1\u001b[0m\u001b[39;49m -> \u001b[0m\u001b[32;49m24.0\u001b[0m\n",
      "\u001b[1m[\u001b[0m\u001b[34;49mnotice\u001b[0m\u001b[1;39;49m]\u001b[0m\u001b[39;49m To update, run: \u001b[0m\u001b[32;49mpip install --upgrade pip\u001b[0m\n",
      "Note: you may need to restart the kernel to use updated packages.\n",
      "Collecting pandas\n",
      "  Obtaining dependency information for pandas from https://files.pythonhosted.org/packages/16/c6/75231fd47afd6b3f89011e7077f1a3958441264aca7ae9ff596e3276a5d0/pandas-2.2.2-cp311-cp311-macosx_11_0_arm64.whl.metadata\n",
      "  Downloading pandas-2.2.2-cp311-cp311-macosx_11_0_arm64.whl.metadata (19 kB)\n",
      "Requirement already satisfied: numpy>=1.23.2 in ./venv/lib/python3.11/site-packages (from pandas) (1.26.4)\n",
      "Requirement already satisfied: python-dateutil>=2.8.2 in ./venv/lib/python3.11/site-packages (from pandas) (2.9.0.post0)\n",
      "Collecting pytz>=2020.1 (from pandas)\n",
      "  Obtaining dependency information for pytz>=2020.1 from https://files.pythonhosted.org/packages/9c/3d/a121f284241f08268b21359bd425f7d4825cffc5ac5cd0e1b3d82ffd2b10/pytz-2024.1-py2.py3-none-any.whl.metadata\n",
      "  Downloading pytz-2024.1-py2.py3-none-any.whl.metadata (22 kB)\n",
      "Collecting tzdata>=2022.7 (from pandas)\n",
      "  Obtaining dependency information for tzdata>=2022.7 from https://files.pythonhosted.org/packages/65/58/f9c9e6be752e9fcb8b6a0ee9fb87e6e7a1f6bcab2cdc73f02bb7ba91ada0/tzdata-2024.1-py2.py3-none-any.whl.metadata\n",
      "  Downloading tzdata-2024.1-py2.py3-none-any.whl.metadata (1.4 kB)\n",
      "Requirement already satisfied: six>=1.5 in ./venv/lib/python3.11/site-packages (from python-dateutil>=2.8.2->pandas) (1.16.0)\n",
      "Downloading pandas-2.2.2-cp311-cp311-macosx_11_0_arm64.whl (11.3 MB)\n",
      "\u001b[2K   \u001b[90m━━━━━━━━━━━━━━━━━━━━━━━━━━━━━━━━━━━━━━━━\u001b[0m \u001b[32m11.3/11.3 MB\u001b[0m \u001b[31m19.5 MB/s\u001b[0m eta \u001b[36m0:00:00\u001b[0m00:01\u001b[0m00:01\u001b[0m\n",
      "\u001b[?25hDownloading pytz-2024.1-py2.py3-none-any.whl (505 kB)\n",
      "\u001b[2K   \u001b[90m━━━━━━━━━━━━━━━━━━━━━━━━━━━━━━━━━━━━━━━━\u001b[0m \u001b[32m505.5/505.5 kB\u001b[0m \u001b[31m11.2 MB/s\u001b[0m eta \u001b[36m0:00:00\u001b[0ma \u001b[36m0:00:01\u001b[0m\n",
      "\u001b[?25hDownloading tzdata-2024.1-py2.py3-none-any.whl (345 kB)\n",
      "\u001b[2K   \u001b[90m━━━━━━━━━━━━━━━━━━━━━━━━━━━━━━━━━━━━━━━━\u001b[0m \u001b[32m345.4/345.4 kB\u001b[0m \u001b[31m14.9 MB/s\u001b[0m eta \u001b[36m0:00:00\u001b[0m\n",
      "\u001b[?25hInstalling collected packages: pytz, tzdata, pandas\n",
      "Successfully installed pandas-2.2.2 pytz-2024.1 tzdata-2024.1\n",
      "\n",
      "\u001b[1m[\u001b[0m\u001b[34;49mnotice\u001b[0m\u001b[1;39;49m]\u001b[0m\u001b[39;49m A new release of pip is available: \u001b[0m\u001b[31;49m23.2.1\u001b[0m\u001b[39;49m -> \u001b[0m\u001b[32;49m24.0\u001b[0m\n",
      "\u001b[1m[\u001b[0m\u001b[34;49mnotice\u001b[0m\u001b[1;39;49m]\u001b[0m\u001b[39;49m To update, run: \u001b[0m\u001b[32;49mpip install --upgrade pip\u001b[0m\n",
      "Note: you may need to restart the kernel to use updated packages.\n",
      "Collecting matplotlib\n",
      "  Obtaining dependency information for matplotlib from https://files.pythonhosted.org/packages/14/60/12d4f27b859a74359306662da69c2d08826a2b05cfe7f96e66b490f41573/matplotlib-3.8.4-cp311-cp311-macosx_11_0_arm64.whl.metadata\n",
      "  Downloading matplotlib-3.8.4-cp311-cp311-macosx_11_0_arm64.whl.metadata (5.8 kB)\n",
      "Collecting contourpy>=1.0.1 (from matplotlib)\n",
      "  Obtaining dependency information for contourpy>=1.0.1 from https://files.pythonhosted.org/packages/9f/6b/8a1ca4b81d426c104fe42b3cfad9488eaaef0a03fcf98eaecc22b628a013/contourpy-1.2.1-cp311-cp311-macosx_11_0_arm64.whl.metadata\n",
      "  Downloading contourpy-1.2.1-cp311-cp311-macosx_11_0_arm64.whl.metadata (5.8 kB)\n",
      "Collecting cycler>=0.10 (from matplotlib)\n",
      "  Obtaining dependency information for cycler>=0.10 from https://files.pythonhosted.org/packages/e7/05/c19819d5e3d95294a6f5947fb9b9629efb316b96de511b418c53d245aae6/cycler-0.12.1-py3-none-any.whl.metadata\n",
      "  Downloading cycler-0.12.1-py3-none-any.whl.metadata (3.8 kB)\n",
      "Collecting fonttools>=4.22.0 (from matplotlib)\n",
      "  Obtaining dependency information for fonttools>=4.22.0 from https://files.pythonhosted.org/packages/33/47/f2ca671af61757eaaac608963dda5b76ec9100621e45d0fd63a153fd8cd7/fonttools-4.51.0-cp311-cp311-macosx_10_9_universal2.whl.metadata\n",
      "  Downloading fonttools-4.51.0-cp311-cp311-macosx_10_9_universal2.whl.metadata (159 kB)\n",
      "\u001b[2K     \u001b[90m━━━━━━━━━━━━━━━━━━━━━━━━━━━━━━━━━━━━━━━\u001b[0m \u001b[32m159.5/159.5 kB\u001b[0m \u001b[31m3.4 MB/s\u001b[0m eta \u001b[36m0:00:00\u001b[0ma \u001b[36m0:00:01\u001b[0m\n",
      "\u001b[?25hCollecting kiwisolver>=1.3.1 (from matplotlib)\n",
      "  Obtaining dependency information for kiwisolver>=1.3.1 from https://files.pythonhosted.org/packages/4a/fe/23d7fa78f7c66086d196406beb1fb2eaf629dd7adc01c3453033303d17fa/kiwisolver-1.4.5-cp311-cp311-macosx_11_0_arm64.whl.metadata\n",
      "  Downloading kiwisolver-1.4.5-cp311-cp311-macosx_11_0_arm64.whl.metadata (6.4 kB)\n",
      "Requirement already satisfied: numpy>=1.21 in ./venv/lib/python3.11/site-packages (from matplotlib) (1.26.4)\n",
      "Requirement already satisfied: packaging>=20.0 in ./venv/lib/python3.11/site-packages (from matplotlib) (24.0)\n",
      "Collecting pillow>=8 (from matplotlib)\n",
      "  Obtaining dependency information for pillow>=8 from https://files.pythonhosted.org/packages/00/5c/7633f291def20082bad31b844fe5ed07742aae8504e4cfe2f331ee727178/pillow-10.3.0-cp311-cp311-macosx_11_0_arm64.whl.metadata\n",
      "  Downloading pillow-10.3.0-cp311-cp311-macosx_11_0_arm64.whl.metadata (9.2 kB)\n",
      "Collecting pyparsing>=2.3.1 (from matplotlib)\n",
      "  Obtaining dependency information for pyparsing>=2.3.1 from https://files.pythonhosted.org/packages/9d/ea/6d76df31432a0e6fdf81681a895f009a4bb47b3c39036db3e1b528191d52/pyparsing-3.1.2-py3-none-any.whl.metadata\n",
      "  Downloading pyparsing-3.1.2-py3-none-any.whl.metadata (5.1 kB)\n",
      "Requirement already satisfied: python-dateutil>=2.7 in ./venv/lib/python3.11/site-packages (from matplotlib) (2.9.0.post0)\n",
      "Requirement already satisfied: six>=1.5 in ./venv/lib/python3.11/site-packages (from python-dateutil>=2.7->matplotlib) (1.16.0)\n",
      "Downloading matplotlib-3.8.4-cp311-cp311-macosx_11_0_arm64.whl (7.5 MB)\n",
      "\u001b[2K   \u001b[90m━━━━━━━━━━━━━━━━━━━━━━━━━━━━━━━━━━━━━━━━\u001b[0m \u001b[32m7.5/7.5 MB\u001b[0m \u001b[31m17.1 MB/s\u001b[0m eta \u001b[36m0:00:00\u001b[0ma \u001b[36m0:00:01\u001b[0m\n",
      "\u001b[?25hDownloading contourpy-1.2.1-cp311-cp311-macosx_11_0_arm64.whl (245 kB)\n",
      "\u001b[2K   \u001b[90m━━━━━━━━━━━━━━━━━━━━━━━━━━━━━━━━━━━━━━━━\u001b[0m \u001b[32m245.9/245.9 kB\u001b[0m \u001b[31m9.7 MB/s\u001b[0m eta \u001b[36m0:00:00\u001b[0m\n",
      "\u001b[?25hDownloading cycler-0.12.1-py3-none-any.whl (8.3 kB)\n",
      "Downloading fonttools-4.51.0-cp311-cp311-macosx_10_9_universal2.whl (2.8 MB)\n",
      "\u001b[2K   \u001b[90m━━━━━━━━━━━━━━━━━━━━━━━━━━━━━━━━━━━━━━━━\u001b[0m \u001b[32m2.8/2.8 MB\u001b[0m \u001b[31m17.7 MB/s\u001b[0m eta \u001b[36m0:00:00\u001b[0m00:01\u001b[0m00:01\u001b[0m\n",
      "\u001b[?25hDownloading kiwisolver-1.4.5-cp311-cp311-macosx_11_0_arm64.whl (66 kB)\n",
      "\u001b[2K   \u001b[90m━━━━━━━━━━━━━━━━━━━━━━━━━━━━━━━━━━━━━━━━\u001b[0m \u001b[32m66.2/66.2 kB\u001b[0m \u001b[31m8.4 MB/s\u001b[0m eta \u001b[36m0:00:00\u001b[0m\n",
      "\u001b[?25hDownloading pillow-10.3.0-cp311-cp311-macosx_11_0_arm64.whl (3.4 MB)\n",
      "\u001b[2K   \u001b[90m━━━━━━━━━━━━━━━━━━━━━━━━━━━━━━━━━━━━━━━━\u001b[0m \u001b[32m3.4/3.4 MB\u001b[0m \u001b[31m20.3 MB/s\u001b[0m eta \u001b[36m0:00:00\u001b[0ma \u001b[36m0:00:01\u001b[0m\n",
      "\u001b[?25hDownloading pyparsing-3.1.2-py3-none-any.whl (103 kB)\n",
      "\u001b[2K   \u001b[90m━━━━━━━━━━━━━━━━━━━━━━━━━━━━━━━━━━━━━━━━\u001b[0m \u001b[32m103.2/103.2 kB\u001b[0m \u001b[31m9.2 MB/s\u001b[0m eta \u001b[36m0:00:00\u001b[0m\n",
      "\u001b[?25hInstalling collected packages: pyparsing, pillow, kiwisolver, fonttools, cycler, contourpy, matplotlib\n",
      "Successfully installed contourpy-1.2.1 cycler-0.12.1 fonttools-4.51.0 kiwisolver-1.4.5 matplotlib-3.8.4 pillow-10.3.0 pyparsing-3.1.2\n",
      "\n",
      "\u001b[1m[\u001b[0m\u001b[34;49mnotice\u001b[0m\u001b[1;39;49m]\u001b[0m\u001b[39;49m A new release of pip is available: \u001b[0m\u001b[31;49m23.2.1\u001b[0m\u001b[39;49m -> \u001b[0m\u001b[32;49m24.0\u001b[0m\n",
      "\u001b[1m[\u001b[0m\u001b[34;49mnotice\u001b[0m\u001b[1;39;49m]\u001b[0m\u001b[39;49m To update, run: \u001b[0m\u001b[32;49mpip install --upgrade pip\u001b[0m\n",
      "Note: you may need to restart the kernel to use updated packages.\n"
     ]
    }
   ],
   "source": [
    "%pip install numpy\n",
    "%pip install pandas\n",
    "%pip install matplotlib"
   ]
  },
  {
   "cell_type": "code",
   "execution_count": null,
   "metadata": {},
   "outputs": [
    {
     "ename": "",
     "evalue": "",
     "output_type": "error",
     "traceback": [
      "\u001b[1;31mRunning cells with 'venv (Python 3.11.7)' requires the ipykernel package.\n",
      "\u001b[1;31mRun the following command to install 'ipykernel' into the Python environment. \n",
      "\u001b[1;31mCommand: '/Volumes/nextcoder/code/ai-public-sector/berlin-recycling/data-prep/berlin-recycling-data-exploration/venv/bin/python -m pip install ipykernel -U --force-reinstall'"
     ]
    }
   ],
   "source": [
    "# datafolder = \"initial-example-data\"\n",
    "# datafolder = \"example-data-for-one-year-20240403\"\n",
    "datafolder = \"new-data-2024-04-04\""
   ]
  },
  {
   "cell_type": "code",
   "execution_count": 2,
   "metadata": {
    "_cell_guid": "b1076dfc-b9ad-4769-8c92-a6c4dae69d19",
    "_uuid": "8f2839f25d086af736a60e9eeb907d3b93b6e0e5"
   },
   "outputs": [],
   "source": [
    "# This Python 3 environment comes with many helpful analytics libraries installed\n",
    "# It is defined by the kaggle/python Docker image: https://github.com/kaggle/docker-python\n",
    "# For example, here's several helpful packages to load\n",
    "\n",
    "import os\n",
    "import numpy as np # linear algebra\n",
    "import pandas as pd # data processing, CSV file I/O (e.g. pd.read_csv)\n",
    "import matplotlib.pyplot as plt\n"
   ]
  },
  {
   "cell_type": "code",
   "execution_count": 3,
   "metadata": {},
   "outputs": [
    {
     "name": "stdout",
     "output_type": "stream",
     "text": [
      "data/example-data-for-one-year-20240403/.DS_Store\n",
      "data/example-data-for-one-year-20240403/data/zeitposten.csv\n",
      "data/example-data-for-one-year-20240403/data/ressource.csv\n",
      "data/example-data-for-one-year-20240403/data/einsatzstelle.csv\n",
      "data/example-data-for-one-year-20240403/data/reklamationen.csv\n",
      "data/example-data-for-one-year-20240403/data/auftraege.csv\n",
      "data/example-data-for-one-year-20240403/data/tour.csv\n"
     ]
    }
   ],
   "source": [
    "# Input data files are available in the read-only \"../input/\" directory\n",
    "# For example, running this (by clicking run or pressing Shift+Enter) will list all files under the input directory\n",
    "for dirname, _, filenames in os.walk('data/example-data-for-one-year-20240403'):\n",
    "    for filename in filenames:\n",
    "        print(os.path.join(dirname, filename))\n",
    "\n",
    "# You can write up to 20GB to the current directory (/kaggle/working/) that gets preserved as output when you create a version using \"Save & Run All\" \n",
    "# You can also write temporary files to /kaggle/temp/, but they won't be saved outside of the current session"
   ]
  },
  {
   "cell_type": "code",
   "execution_count": 4,
   "metadata": {},
   "outputs": [],
   "source": [
    "def load_and_preview_dataset(name, data_folder, filename, sep=','): \n",
    "    df = pd.read_csv(f'data/{data_folder}/data/{filename}.csv', sep=sep)\n",
    "    print(f'Columns and data types of \"{name}\" dataset')\n",
    "    display(df.dtypes)\n",
    "    print(f'Number of rows of \"{name}\" dataset', len(df))\n",
    "    print(f'Head of {name} dataset')\n",
    "    display(df.head())\n",
    "    print(\"\\nMissing values in orders:\\n\", df.isnull().sum())\n",
    "    return df"
   ]
  },
  {
   "attachments": {
    "68890ad0-a05a-4e0f-9a92-cb36ca6fc339.png": {
     "image/png": "[encoded data removed]"
    }
   },
   "cell_type": "markdown",
   "metadata": {},
   "source": [
    "## Data model diagram (provided by Berlin Recyling at 2024-03-19)\n",
    "![image.png](attachment:68890ad0-a05a-4e0f-9a92-cb36ca6fc339.png)"
   ]
  },
  {
   "cell_type": "markdown",
   "metadata": {},
   "source": [
    "## Description of the fields (provided by Berlin Recycling\n",
    "\n",
    "| Table | Field | Description |\n",
    "| --- | --- | --- |\n",
    "| Aufträge | %DEBITOR%EINSATZSTELLE | Foreign Key to „Einsatzstellen\" (1:1) |\n",
    "| Aufträge | %TOURNR | Foreign Key to „Tour\" |\n",
    "| Aufträge | Artikel | Article description (like paper, glass, waste) |\n",
    "| Aufträge | Auftr.Auftragsnr. | Order Number |\n",
    "| Aufträge | Auftr.Betriebsmittelnr. | Equipment Number |\n",
    "| Aufträge | Auftr.Einheit | Unit |\n",
    "| Aufträge | Auftr.Einsatzdatum | date of fullfillment of the order |\n",
    "| Aufträge | Auftr.Int. Stoffkatalog | Internal article number |\n",
    "| Aufträge | Auftr.Menge | Amount |\n",
    "| Aufträge | Betriebsmittel | Equipment Name |\n",
    "| Einsatzstellen | %DEBITOR%EINSATZSTELLE | Primary Key |\n",
    "| Einsatzstellen | %EINSATZSTELLENR | Number of location |\n",
    "| Einsatzstellen | Adresse | Street and housnumber |\n",
    "| Einsatzstellen | Location | GPS-Coordinates |\n",
    "| Einsatzstellen | Ort | City |\n",
    "| Einsatzstellen | PLZ | Zip-Code |\n",
    "| Reklamationen | %TOURNR | Foreign Key to „Tour\" |\n",
    "| Reklamationen | Belegnr. | Order number for the complaint |\n",
    "| Reklamationen | Grund | reason |\n",
    "| Reklamationen | Reklamationsgrund | Sub reason |\n",
    "| Reklamationen | Reklamationstyp | Complaint type |\n",
    "| Reklamationen | Reklamationsuntergrund Beschreibung | Sub reason description |\n",
    "| Ressource | %Mitarbeiternummer | Foreign Key for employess |\n",
    "| Ressource | %TOURNR | Foreign Key for „Tour\" |\n",
    "| Ressource | Ressource.Erster Fahrer | Flag, if ressource is the driver |\n",
    "| Ressource | Zeitarbeiter_Flag | Flag, if ressource is temporary worker (for those w have no data for absence!) |\n",
    "| Tour | %TOURNR | Primary Key |\n",
    "| Tour | Betriebsstätte | Loaction of the tour |\n",
    "| Tour | Einsatzdatum | Date of tour |\n",
    "| Tour | Rahmentourcode | Blanket tour (each tour belongs to a blanket type as a type of grouping) |\n",
    "| Zeitposten | %Mitarbeiternummer | Primary Key for employee |\n",
    "| Zeitposten | Ende | Start of abesence |\n",
    "| Zeitposten | Start | End of absence |\n",
    "| Zeitposten | Zeitkontennr. Text | Absence reason |"
   ]
  },
  {
   "cell_type": "markdown",
   "metadata": {},
   "source": [
    "## Load and show first 10 rows for each dataset and improve column names (English, shorter names)"
   ]
  },
  {
   "cell_type": "markdown",
   "metadata": {},
   "source": [
    "### Orders"
   ]
  },
  {
   "cell_type": "markdown",
   "metadata": {},
   "source": []
  },
  {
   "cell_type": "code",
   "execution_count": 5,
   "metadata": {},
   "outputs": [
    {
     "name": "stderr",
     "output_type": "stream",
     "text": [
      "/var/folders/k6/4x420cvj75x4mh4djz2pbd900000gp/T/ipykernel_45058/1415859017.py:2: DtypeWarning: Columns (4) have mixed types. Specify dtype option on import or set low_memory=False.\n",
      "  df = pd.read_csv(f'data/{data_folder}/data/{filename}.csv', sep=sep)\n"
     ]
    },
    {
     "name": "stdout",
     "output_type": "stream",
     "text": [
      "Columns and data types of \"orders\" dataset\n"
     ]
    },
    {
     "data": {
      "text/plain": [
       "%TOURNR                      int64\n",
       "%DEBITOR%EINSATZSTELLE       int64\n",
       "Auftr.Auftragsnr.           object\n",
       "Auftr.Einsatzdatum          object\n",
       "Auftr.Menge                 object\n",
       "Auftr.Einheit               object\n",
       "Auftr.Betriebsmittelnr.    float64\n",
       "Auftr.Int. Stoffkatalog     object\n",
       "Artikel                     object\n",
       "Betriebsmittel              object\n",
       "dtype: object"
      ]
     },
     "metadata": {},
     "output_type": "display_data"
    },
    {
     "name": "stdout",
     "output_type": "stream",
     "text": [
      "Number of rows of \"orders\" dataset 13242295\n",
      "Head of orders dataset\n"
     ]
    },
    {
     "data": {
      "text/html": [
       "<div>\n",
       "<style scoped>\n",
       "    .dataframe tbody tr th:only-of-type {\n",
       "        vertical-align: middle;\n",
       "    }\n",
       "\n",
       "    .dataframe tbody tr th {\n",
       "        vertical-align: top;\n",
       "    }\n",
       "\n",
       "    .dataframe thead th {\n",
       "        text-align: right;\n",
       "    }\n",
       "</style>\n",
       "<table border=\"1\" class=\"dataframe\">\n",
       "  <thead>\n",
       "    <tr style=\"text-align: right;\">\n",
       "      <th></th>\n",
       "      <th>%TOURNR</th>\n",
       "      <th>%DEBITOR%EINSATZSTELLE</th>\n",
       "      <th>Auftr.Auftragsnr.</th>\n",
       "      <th>Auftr.Einsatzdatum</th>\n",
       "      <th>Auftr.Menge</th>\n",
       "      <th>Auftr.Einheit</th>\n",
       "      <th>Auftr.Betriebsmittelnr.</th>\n",
       "      <th>Auftr.Int. Stoffkatalog</th>\n",
       "      <th>Artikel</th>\n",
       "      <th>Betriebsmittel</th>\n",
       "    </tr>\n",
       "  </thead>\n",
       "  <tbody>\n",
       "    <tr>\n",
       "      <th>0</th>\n",
       "      <td>32437</td>\n",
       "      <td>56418</td>\n",
       "      <td>A221790082</td>\n",
       "      <td>19.05.2022</td>\n",
       "      <td>1</td>\n",
       "      <td>Stück</td>\n",
       "      <td>20440.0</td>\n",
       "      <td>M760300</td>\n",
       "      <td>Kunststoffe</td>\n",
       "      <td>30m³ CT offen</td>\n",
       "    </tr>\n",
       "    <tr>\n",
       "      <th>1</th>\n",
       "      <td>32437</td>\n",
       "      <td>56418</td>\n",
       "      <td>A221790083</td>\n",
       "      <td>19.05.2022</td>\n",
       "      <td>1</td>\n",
       "      <td>Stück</td>\n",
       "      <td>20440.0</td>\n",
       "      <td>M760300</td>\n",
       "      <td>Kunststoffe</td>\n",
       "      <td>30m³ CT offen</td>\n",
       "    </tr>\n",
       "    <tr>\n",
       "      <th>2</th>\n",
       "      <td>82408</td>\n",
       "      <td>56418</td>\n",
       "      <td>A231849217</td>\n",
       "      <td>23.05.2023</td>\n",
       "      <td>1</td>\n",
       "      <td>Stück</td>\n",
       "      <td>20440.0</td>\n",
       "      <td>M760300</td>\n",
       "      <td>Kunststoffe</td>\n",
       "      <td>30m³ CT offen</td>\n",
       "    </tr>\n",
       "    <tr>\n",
       "      <th>3</th>\n",
       "      <td>46532</td>\n",
       "      <td>56418</td>\n",
       "      <td>A213241021</td>\n",
       "      <td>21.09.2021</td>\n",
       "      <td>1</td>\n",
       "      <td>Stück</td>\n",
       "      <td>20440.0</td>\n",
       "      <td>M760300</td>\n",
       "      <td>Kunststoffe</td>\n",
       "      <td>30m³ CT offen</td>\n",
       "    </tr>\n",
       "    <tr>\n",
       "      <th>4</th>\n",
       "      <td>25173</td>\n",
       "      <td>56418</td>\n",
       "      <td>A220934859</td>\n",
       "      <td>15.03.2022</td>\n",
       "      <td>1</td>\n",
       "      <td>Stück</td>\n",
       "      <td>20440.0</td>\n",
       "      <td>M760300</td>\n",
       "      <td>Kunststoffe</td>\n",
       "      <td>30m³ CT offen</td>\n",
       "    </tr>\n",
       "  </tbody>\n",
       "</table>\n",
       "</div>"
      ],
      "text/plain": [
       "   %TOURNR  %DEBITOR%EINSATZSTELLE Auftr.Auftragsnr. Auftr.Einsatzdatum  \\\n",
       "0    32437                   56418        A221790082         19.05.2022   \n",
       "1    32437                   56418        A221790083         19.05.2022   \n",
       "2    82408                   56418        A231849217         23.05.2023   \n",
       "3    46532                   56418        A213241021         21.09.2021   \n",
       "4    25173                   56418        A220934859         15.03.2022   \n",
       "\n",
       "  Auftr.Menge Auftr.Einheit  Auftr.Betriebsmittelnr. Auftr.Int. Stoffkatalog  \\\n",
       "0           1         Stück                  20440.0                 M760300   \n",
       "1           1         Stück                  20440.0                 M760300   \n",
       "2           1         Stück                  20440.0                 M760300   \n",
       "3           1         Stück                  20440.0                 M760300   \n",
       "4           1         Stück                  20440.0                 M760300   \n",
       "\n",
       "       Artikel Betriebsmittel  \n",
       "0  Kunststoffe  30m³ CT offen  \n",
       "1  Kunststoffe  30m³ CT offen  \n",
       "2  Kunststoffe  30m³ CT offen  \n",
       "3  Kunststoffe  30m³ CT offen  \n",
       "4  Kunststoffe  30m³ CT offen  "
      ]
     },
     "metadata": {},
     "output_type": "display_data"
    },
    {
     "name": "stdout",
     "output_type": "stream",
     "text": [
      "\n",
      "Missing values in orders:\n",
      " %TOURNR                       0\n",
      "%DEBITOR%EINSATZSTELLE        0\n",
      "Auftr.Auftragsnr.             0\n",
      "Auftr.Einsatzdatum            0\n",
      "Auftr.Menge                   0\n",
      "Auftr.Einheit                41\n",
      "Auftr.Betriebsmittelnr.    5647\n",
      "Auftr.Int. Stoffkatalog    5059\n",
      "Artikel                    5059\n",
      "Betriebsmittel             5647\n",
      "dtype: int64\n"
     ]
    }
   ],
   "source": [
    "# orders = load_and_preview_dataset('orders', datafolder, 'auftraege', sep='\\t')\n",
    "# dtype_mappings ={'%TOURNR': int64, '%DEBITOR': int64, 'Auftr.Auftragsnr.': int64, 'Auftr.Einsatzdatum': int64, 'another_column': 'int64'}\n",
    "orders = load_and_preview_dataset('orders', datafolder, 'auftraege', sep=',')"
   ]
  },
  {
   "cell_type": "code",
   "execution_count": 6,
   "metadata": {},
   "outputs": [
    {
     "data": {
      "text/html": [
       "<div>\n",
       "<style scoped>\n",
       "    .dataframe tbody tr th:only-of-type {\n",
       "        vertical-align: middle;\n",
       "    }\n",
       "\n",
       "    .dataframe tbody tr th {\n",
       "        vertical-align: top;\n",
       "    }\n",
       "\n",
       "    .dataframe thead th {\n",
       "        text-align: right;\n",
       "    }\n",
       "</style>\n",
       "<table border=\"1\" class=\"dataframe\">\n",
       "  <thead>\n",
       "    <tr style=\"text-align: right;\">\n",
       "      <th></th>\n",
       "      <th>tour_number</th>\n",
       "      <th>customer_location</th>\n",
       "      <th>order_number</th>\n",
       "      <th>service_date</th>\n",
       "      <th>quantity</th>\n",
       "      <th>unit</th>\n",
       "      <th>equipment_number</th>\n",
       "      <th>material_category</th>\n",
       "      <th>article</th>\n",
       "      <th>equipment_name</th>\n",
       "    </tr>\n",
       "  </thead>\n",
       "  <tbody>\n",
       "    <tr>\n",
       "      <th>0</th>\n",
       "      <td>32437</td>\n",
       "      <td>56418</td>\n",
       "      <td>A221790082</td>\n",
       "      <td>19.05.2022</td>\n",
       "      <td>1</td>\n",
       "      <td>Stück</td>\n",
       "      <td>20440.0</td>\n",
       "      <td>M760300</td>\n",
       "      <td>Kunststoffe</td>\n",
       "      <td>30m³ CT offen</td>\n",
       "    </tr>\n",
       "    <tr>\n",
       "      <th>1</th>\n",
       "      <td>32437</td>\n",
       "      <td>56418</td>\n",
       "      <td>A221790083</td>\n",
       "      <td>19.05.2022</td>\n",
       "      <td>1</td>\n",
       "      <td>Stück</td>\n",
       "      <td>20440.0</td>\n",
       "      <td>M760300</td>\n",
       "      <td>Kunststoffe</td>\n",
       "      <td>30m³ CT offen</td>\n",
       "    </tr>\n",
       "    <tr>\n",
       "      <th>2</th>\n",
       "      <td>82408</td>\n",
       "      <td>56418</td>\n",
       "      <td>A231849217</td>\n",
       "      <td>23.05.2023</td>\n",
       "      <td>1</td>\n",
       "      <td>Stück</td>\n",
       "      <td>20440.0</td>\n",
       "      <td>M760300</td>\n",
       "      <td>Kunststoffe</td>\n",
       "      <td>30m³ CT offen</td>\n",
       "    </tr>\n",
       "    <tr>\n",
       "      <th>3</th>\n",
       "      <td>46532</td>\n",
       "      <td>56418</td>\n",
       "      <td>A213241021</td>\n",
       "      <td>21.09.2021</td>\n",
       "      <td>1</td>\n",
       "      <td>Stück</td>\n",
       "      <td>20440.0</td>\n",
       "      <td>M760300</td>\n",
       "      <td>Kunststoffe</td>\n",
       "      <td>30m³ CT offen</td>\n",
       "    </tr>\n",
       "    <tr>\n",
       "      <th>4</th>\n",
       "      <td>25173</td>\n",
       "      <td>56418</td>\n",
       "      <td>A220934859</td>\n",
       "      <td>15.03.2022</td>\n",
       "      <td>1</td>\n",
       "      <td>Stück</td>\n",
       "      <td>20440.0</td>\n",
       "      <td>M760300</td>\n",
       "      <td>Kunststoffe</td>\n",
       "      <td>30m³ CT offen</td>\n",
       "    </tr>\n",
       "  </tbody>\n",
       "</table>\n",
       "</div>"
      ],
      "text/plain": [
       "   tour_number  customer_location order_number service_date quantity   unit  \\\n",
       "0        32437              56418   A221790082   19.05.2022        1  Stück   \n",
       "1        32437              56418   A221790083   19.05.2022        1  Stück   \n",
       "2        82408              56418   A231849217   23.05.2023        1  Stück   \n",
       "3        46532              56418   A213241021   21.09.2021        1  Stück   \n",
       "4        25173              56418   A220934859   15.03.2022        1  Stück   \n",
       "\n",
       "   equipment_number material_category      article equipment_name  \n",
       "0           20440.0           M760300  Kunststoffe  30m³ CT offen  \n",
       "1           20440.0           M760300  Kunststoffe  30m³ CT offen  \n",
       "2           20440.0           M760300  Kunststoffe  30m³ CT offen  \n",
       "3           20440.0           M760300  Kunststoffe  30m³ CT offen  \n",
       "4           20440.0           M760300  Kunststoffe  30m³ CT offen  "
      ]
     },
     "metadata": {},
     "output_type": "display_data"
    }
   ],
   "source": [
    "# Rename columns for orders dataset\n",
    "orders = orders.rename(\n",
    "   columns={\n",
    "       \"%TOURNR\": \"tour_number\",\n",
    "       \"%DEBITOR%EINSATZSTELLE\": \"customer_location\",\n",
    "       \"Auftr.Auftragsnr.\": \"order_number\",\n",
    "       \"Auftr.Einsatzdatum\": \"service_date\",\n",
    "       \"Auftr.Menge\": \"quantity\",\n",
    "       \"Auftr.Einheit\": \"unit\",\n",
    "       \"Auftr.Betriebsmittelnr.\": \"equipment_number\",\n",
    "       \"Auftr.Int. Stoffkatalog\": \"material_category\",\n",
    "       \"Artikel\": \"article\",\n",
    "       \"Betriebsmittel\": \"equipment_name\",\n",
    "   }\n",
    ")\n",
    "display(orders.head())"
   ]
  },
  {
   "cell_type": "code",
   "execution_count": 7,
   "metadata": {},
   "outputs": [],
   "source": [
    "orders['quantity'] = orders['quantity'].str.replace(',', '.', regex=False)\n",
    "orders['quantity'] = pd.to_numeric(orders['quantity'], errors='coerce')"
   ]
  },
  {
   "cell_type": "markdown",
   "metadata": {},
   "source": [
    "### What kind of units for the quantities do we have and how many rows for each of them? "
   ]
  },
  {
   "cell_type": "code",
   "execution_count": 36,
   "metadata": {},
   "outputs": [
    {
     "data": {
      "text/plain": [
       "unit\n",
       "Stück        13240713\n",
       "m³               1063\n",
       "STD               322\n",
       "Stunde(n)         122\n",
       "to                 26\n",
       "Pauschal            7\n",
       "Stunden             1\n",
       "Name: count, dtype: int64"
      ]
     },
     "execution_count": 36,
     "metadata": {},
     "output_type": "execute_result"
    }
   ],
   "source": [
    "count_per_unit = orders['unit'].value_counts()\n",
    "count_per_unit"
   ]
  },
  {
   "cell_type": "code",
   "execution_count": 37,
   "metadata": {},
   "outputs": [
    {
     "name": "stdout",
     "output_type": "stream",
     "text": [
      "unit\n",
      "Stück        99.988363\n",
      "m³            0.008027\n",
      "STD           0.002432\n",
      "Stunde(n)     0.000921\n",
      "to            0.000196\n",
      "Pauschal      0.000053\n",
      "Stunden       0.000008\n",
      "Name: proportion, dtype: float64\n"
     ]
    }
   ],
   "source": [
    "# top_3 = count_per_unit[:5]\n",
    "# top_3['Other'] = count_per_unit[5:].sum()\n",
    "\n",
    "# # Plot\n",
    "# fig, ax = plt.subplots()\n",
    "# ax.pie(top_3, labels=top_3.index, autopct='%1.1f%%', startangle=90)\n",
    "# ax.axis('equal')  # Equal aspect ratio ensures the pie chart is circular.\n",
    "# plt.show()\n",
    "\n",
    "percentage_per_unit = orders['unit'].value_counts(normalize=True) * 100\n",
    "print(percentage_per_unit)"
   ]
  },
  {
   "cell_type": "markdown",
   "metadata": {},
   "source": [
    "Given that almost all of them are in \"Stück\"(pieces), let's remove all rows with other unit types"
   ]
  },
  {
   "cell_type": "code",
   "execution_count": 41,
   "metadata": {},
   "outputs": [],
   "source": [
    "\n",
    "orders = orders[orders['unit'] == 'Stück']"
   ]
  },
  {
   "cell_type": "code",
   "execution_count": 42,
   "metadata": {},
   "outputs": [
    {
     "data": {
      "image/png": "[encoded data removed]",
      "text/plain": [
       "<Figure size 640x480 with 1 Axes>"
      ]
     },
     "metadata": {},
     "output_type": "display_data"
    }
   ],
   "source": [
    "orders['quantity'].plot.hist(bins=20, title='Distribution of Order Quantities')\n",
    "plt.show()"
   ]
  },
  {
   "cell_type": "code",
   "execution_count": 43,
   "metadata": {},
   "outputs": [
    {
     "data": {
      "text/plain": [
       "3307         2909\n",
       "19239        2497\n",
       "2051         2193\n",
       "627          2127\n",
       "17990        1888\n",
       "2166         1876\n",
       "3614         1730\n",
       "24734        1696\n",
       "2030         1575\n",
       "30040        1570\n",
       "2043         1540\n",
       "683          1494\n",
       "7943         1413\n",
       "16957        1413\n",
       "25339        1407\n",
       "1623         1356\n",
       "2500         1348\n",
       "4975         1345\n",
       "942          1302\n",
       "6679         1256\n",
       "19844        1252\n",
       "1397         1251\n",
       "27747        1250\n",
       "19382        1219\n",
       "19395        1211\n",
       "2870         1197\n",
       "28547        1192\n",
       "22019        1176\n",
       "6619         1132\n",
       "4094         1112\n",
       "12142        1109\n",
       "4699         1101\n",
       "2817         1097\n",
       "547          1096\n",
       "14698        1096\n",
       "12729        1095\n",
       "25338        1095\n",
       "22083        1094\n",
       "26118        1077\n",
       "30576        1057\n",
       "28877        1056\n",
       "2693         1045\n",
       "6936         1029\n",
       "2189         1019\n",
       "35786        1016\n",
       "5965         1015\n",
       "3493         1006\n",
       "10687         995\n",
       "25053         993\n",
       "27284         992\n",
       "Other    13173703\n",
       "dtype: int64"
      ]
     },
     "execution_count": 43,
     "metadata": {},
     "output_type": "execute_result"
    }
   ],
   "source": [
    "n = 50\n",
    "customer_locations_count = orders['customer_location'].value_counts()\n",
    "top_n_customer_locations = customer_locations_count.head(n)\n",
    "others_count = customer_locations_count[n:].sum()\n",
    "top_n_customer_locations_with_others = pd.concat([top_n_customer_locations, pd.Series({'Other': others_count})])\n",
    "top_n_customer_locations_with_others"
   ]
  },
  {
   "cell_type": "code",
   "execution_count": 45,
   "metadata": {},
   "outputs": [
    {
     "name": "stdout",
     "output_type": "stream",
     "text": [
      "average_orders_per_location: 95.41068340347034\n"
     ]
    },
    {
     "data": {
      "text/plain": [
       "<matplotlib.legend.Legend at 0x1768b64d0>"
      ]
     },
     "execution_count": 45,
     "metadata": {},
     "output_type": "execute_result"
    },
    {
     "data": {
      "image/png": "[encoded data removed]",
      "text/plain": [
       "<Figure size 1000x600 with 1 Axes>"
      ]
     },
     "metadata": {},
     "output_type": "display_data"
    }
   ],
   "source": [
    "# Count the number of orders per customer location\n",
    "orders_per_location = orders['customer_location'].value_counts()\n",
    "\n",
    "# Calculate the average number of orders per customer location\n",
    "average_orders_per_location = orders_per_location.mean()\n",
    "print(f'average_orders_per_location: {average_orders_per_location}')\n",
    "\n",
    "\n",
    "\n",
    "import matplotlib.pyplot as plt\n",
    "\n",
    "# Plot the distribution of the number of orders per customer location\n",
    "plt.figure(figsize=(10, 6))\n",
    "plt.hist(orders_per_location, bins=range(1, orders_per_location.max() + 2), color='skyblue', edgecolor='black')\n",
    "plt.axvline(average_orders_per_location, color='red', linestyle='dashed', linewidth=1, label='Average Orders per Location')\n",
    "plt.xlabel('Number of Orders')\n",
    "plt.ylabel('Frequency')\n",
    "plt.title('Distribution of Number of Orders per Customer Location')\n",
    "plt.legend()"
   ]
  },
  {
   "cell_type": "markdown",
   "metadata": {},
   "source": [
    "### Absence Events"
   ]
  },
  {
   "cell_type": "code",
   "execution_count": 46,
   "metadata": {},
   "outputs": [
    {
     "name": "stdout",
     "output_type": "stream",
     "text": [
      "Columns and data types of \"absence_events\" dataset\n"
     ]
    },
    {
     "data": {
      "text/plain": [
       "%Mitarbeiternummer     int64\n",
       "Zeitkontennr. Text    object\n",
       "Start                 object\n",
       "Ende                  object\n",
       "dtype: object"
      ]
     },
     "metadata": {},
     "output_type": "display_data"
    },
    {
     "name": "stdout",
     "output_type": "stream",
     "text": [
      "Number of rows of \"absence_events\" dataset 10352\n",
      "Head of absence_events dataset\n"
     ]
    },
    {
     "data": {
      "text/html": [
       "<div>\n",
       "<style scoped>\n",
       "    .dataframe tbody tr th:only-of-type {\n",
       "        vertical-align: middle;\n",
       "    }\n",
       "\n",
       "    .dataframe tbody tr th {\n",
       "        vertical-align: top;\n",
       "    }\n",
       "\n",
       "    .dataframe thead th {\n",
       "        text-align: right;\n",
       "    }\n",
       "</style>\n",
       "<table border=\"1\" class=\"dataframe\">\n",
       "  <thead>\n",
       "    <tr style=\"text-align: right;\">\n",
       "      <th></th>\n",
       "      <th>%Mitarbeiternummer</th>\n",
       "      <th>Zeitkontennr. Text</th>\n",
       "      <th>Start</th>\n",
       "      <th>Ende</th>\n",
       "    </tr>\n",
       "  </thead>\n",
       "  <tbody>\n",
       "    <tr>\n",
       "      <th>0</th>\n",
       "      <td>1307</td>\n",
       "      <td>Urlaub bezahlt</td>\n",
       "      <td>09.02.2021</td>\n",
       "      <td>09.02.2021</td>\n",
       "    </tr>\n",
       "    <tr>\n",
       "      <th>1</th>\n",
       "      <td>1307</td>\n",
       "      <td>Urlaub bezahlt</td>\n",
       "      <td>24.03.2021</td>\n",
       "      <td>28.03.2021</td>\n",
       "    </tr>\n",
       "    <tr>\n",
       "      <th>2</th>\n",
       "      <td>1307</td>\n",
       "      <td>Urlaub bezahlt</td>\n",
       "      <td>05.05.2021</td>\n",
       "      <td>09.05.2021</td>\n",
       "    </tr>\n",
       "    <tr>\n",
       "      <th>3</th>\n",
       "      <td>1307</td>\n",
       "      <td>Urlaub bezahlt</td>\n",
       "      <td>14.06.2021</td>\n",
       "      <td>17.06.2021</td>\n",
       "    </tr>\n",
       "    <tr>\n",
       "      <th>4</th>\n",
       "      <td>1307</td>\n",
       "      <td>Urlaub bezahlt</td>\n",
       "      <td>25.07.2021</td>\n",
       "      <td>28.07.2021</td>\n",
       "    </tr>\n",
       "  </tbody>\n",
       "</table>\n",
       "</div>"
      ],
      "text/plain": [
       "   %Mitarbeiternummer Zeitkontennr. Text       Start        Ende\n",
       "0                1307     Urlaub bezahlt  09.02.2021  09.02.2021\n",
       "1                1307     Urlaub bezahlt  24.03.2021  28.03.2021\n",
       "2                1307     Urlaub bezahlt  05.05.2021  09.05.2021\n",
       "3                1307     Urlaub bezahlt  14.06.2021  17.06.2021\n",
       "4                1307     Urlaub bezahlt  25.07.2021  28.07.2021"
      ]
     },
     "metadata": {},
     "output_type": "display_data"
    },
    {
     "name": "stdout",
     "output_type": "stream",
     "text": [
      "\n",
      "Missing values in orders:\n",
      " %Mitarbeiternummer    0\n",
      "Zeitkontennr. Text    0\n",
      "Start                 0\n",
      "Ende                  0\n",
      "dtype: int64\n"
     ]
    }
   ],
   "source": [
    "# absence_events = load_and_preview_dataset('absence_events', datafolder, 'zeiposten')\n",
    "absence_events = load_and_preview_dataset('absence_events', datafolder, 'zeitposten')"
   ]
  },
  {
   "cell_type": "code",
   "execution_count": 47,
   "metadata": {},
   "outputs": [
    {
     "data": {
      "text/html": [
       "<div>\n",
       "<style scoped>\n",
       "    .dataframe tbody tr th:only-of-type {\n",
       "        vertical-align: middle;\n",
       "    }\n",
       "\n",
       "    .dataframe tbody tr th {\n",
       "        vertical-align: top;\n",
       "    }\n",
       "\n",
       "    .dataframe thead th {\n",
       "        text-align: right;\n",
       "    }\n",
       "</style>\n",
       "<table border=\"1\" class=\"dataframe\">\n",
       "  <thead>\n",
       "    <tr style=\"text-align: right;\">\n",
       "      <th></th>\n",
       "      <th>employee_number</th>\n",
       "      <th>time_account_number</th>\n",
       "      <th>start_date</th>\n",
       "      <th>end_date</th>\n",
       "    </tr>\n",
       "  </thead>\n",
       "  <tbody>\n",
       "    <tr>\n",
       "      <th>0</th>\n",
       "      <td>1307</td>\n",
       "      <td>Urlaub bezahlt</td>\n",
       "      <td>09.02.2021</td>\n",
       "      <td>09.02.2021</td>\n",
       "    </tr>\n",
       "    <tr>\n",
       "      <th>1</th>\n",
       "      <td>1307</td>\n",
       "      <td>Urlaub bezahlt</td>\n",
       "      <td>24.03.2021</td>\n",
       "      <td>28.03.2021</td>\n",
       "    </tr>\n",
       "    <tr>\n",
       "      <th>2</th>\n",
       "      <td>1307</td>\n",
       "      <td>Urlaub bezahlt</td>\n",
       "      <td>05.05.2021</td>\n",
       "      <td>09.05.2021</td>\n",
       "    </tr>\n",
       "    <tr>\n",
       "      <th>3</th>\n",
       "      <td>1307</td>\n",
       "      <td>Urlaub bezahlt</td>\n",
       "      <td>14.06.2021</td>\n",
       "      <td>17.06.2021</td>\n",
       "    </tr>\n",
       "    <tr>\n",
       "      <th>4</th>\n",
       "      <td>1307</td>\n",
       "      <td>Urlaub bezahlt</td>\n",
       "      <td>25.07.2021</td>\n",
       "      <td>28.07.2021</td>\n",
       "    </tr>\n",
       "  </tbody>\n",
       "</table>\n",
       "</div>"
      ],
      "text/plain": [
       "   employee_number time_account_number  start_date    end_date\n",
       "0             1307      Urlaub bezahlt  09.02.2021  09.02.2021\n",
       "1             1307      Urlaub bezahlt  24.03.2021  28.03.2021\n",
       "2             1307      Urlaub bezahlt  05.05.2021  09.05.2021\n",
       "3             1307      Urlaub bezahlt  14.06.2021  17.06.2021\n",
       "4             1307      Urlaub bezahlt  25.07.2021  28.07.2021"
      ]
     },
     "metadata": {},
     "output_type": "display_data"
    }
   ],
   "source": [
    "# Rename columns for absence_events dataset\n",
    "absence_events = absence_events.rename(columns={\n",
    "    '%Mitarbeiternummer': 'employee_number',\n",
    "    'Zeitkontennr. Text': 'time_account_number',\n",
    "    'Text': 'absence_type',\n",
    "    'Start': 'start_date',\n",
    "    'Ende': 'end_date'\n",
    "})\n",
    "display(absence_events.head())"
   ]
  },
  {
   "cell_type": "markdown",
   "metadata": {},
   "source": [
    "### Locations"
   ]
  },
  {
   "cell_type": "code",
   "execution_count": 48,
   "metadata": {},
   "outputs": [
    {
     "name": "stdout",
     "output_type": "stream",
     "text": [
      "Columns and data types of \"locations\" dataset\n"
     ]
    },
    {
     "data": {
      "text/plain": [
       "%DEBITOR%EINSATZSTELLE     int64\n",
       "Adresse                   object\n",
       "Ort                       object\n",
       "PLZ                        int64\n",
       "%EINSATZSTELLENR           int64\n",
       "Location                  object\n",
       "dtype: object"
      ]
     },
     "metadata": {},
     "output_type": "display_data"
    },
    {
     "name": "stdout",
     "output_type": "stream",
     "text": [
      "Number of rows of \"locations\" dataset 138785\n",
      "Head of locations dataset\n"
     ]
    },
    {
     "data": {
      "text/html": [
       "<div>\n",
       "<style scoped>\n",
       "    .dataframe tbody tr th:only-of-type {\n",
       "        vertical-align: middle;\n",
       "    }\n",
       "\n",
       "    .dataframe tbody tr th {\n",
       "        vertical-align: top;\n",
       "    }\n",
       "\n",
       "    .dataframe thead th {\n",
       "        text-align: right;\n",
       "    }\n",
       "</style>\n",
       "<table border=\"1\" class=\"dataframe\">\n",
       "  <thead>\n",
       "    <tr style=\"text-align: right;\">\n",
       "      <th></th>\n",
       "      <th>%DEBITOR%EINSATZSTELLE</th>\n",
       "      <th>Adresse</th>\n",
       "      <th>Ort</th>\n",
       "      <th>PLZ</th>\n",
       "      <th>%EINSATZSTELLENR</th>\n",
       "      <th>Location</th>\n",
       "    </tr>\n",
       "  </thead>\n",
       "  <tbody>\n",
       "    <tr>\n",
       "      <th>0</th>\n",
       "      <td>33610</td>\n",
       "      <td>Ringstr. 8A</td>\n",
       "      <td>Berlin</td>\n",
       "      <td>12203</td>\n",
       "      <td>1</td>\n",
       "      <td>[13.3086847,52.4368641]</td>\n",
       "    </tr>\n",
       "    <tr>\n",
       "      <th>1</th>\n",
       "      <td>121533</td>\n",
       "      <td>Stahnsdorfer Damm 12</td>\n",
       "      <td>Berlin</td>\n",
       "      <td>14109</td>\n",
       "      <td>2</td>\n",
       "      <td>[13.1747222,52.4154794]</td>\n",
       "    </tr>\n",
       "    <tr>\n",
       "      <th>2</th>\n",
       "      <td>135160</td>\n",
       "      <td>Anhaltinerstr. 7</td>\n",
       "      <td>Berlin</td>\n",
       "      <td>14163</td>\n",
       "      <td>3</td>\n",
       "      <td>[13.2567496,52.4308445]</td>\n",
       "    </tr>\n",
       "    <tr>\n",
       "      <th>3</th>\n",
       "      <td>137834</td>\n",
       "      <td>Ilsensteinweg 4A</td>\n",
       "      <td>Berlin</td>\n",
       "      <td>14129</td>\n",
       "      <td>4</td>\n",
       "      <td>[13.22047,52.4367907]</td>\n",
       "    </tr>\n",
       "    <tr>\n",
       "      <th>4</th>\n",
       "      <td>118088</td>\n",
       "      <td>Claszeile 75</td>\n",
       "      <td>Berlin</td>\n",
       "      <td>14165</td>\n",
       "      <td>5</td>\n",
       "      <td>[13.2596225,52.4173589]</td>\n",
       "    </tr>\n",
       "  </tbody>\n",
       "</table>\n",
       "</div>"
      ],
      "text/plain": [
       "   %DEBITOR%EINSATZSTELLE               Adresse     Ort    PLZ  \\\n",
       "0                   33610           Ringstr. 8A  Berlin  12203   \n",
       "1                  121533  Stahnsdorfer Damm 12  Berlin  14109   \n",
       "2                  135160      Anhaltinerstr. 7  Berlin  14163   \n",
       "3                  137834      Ilsensteinweg 4A  Berlin  14129   \n",
       "4                  118088          Claszeile 75  Berlin  14165   \n",
       "\n",
       "   %EINSATZSTELLENR                 Location  \n",
       "0                 1  [13.3086847,52.4368641]  \n",
       "1                 2  [13.1747222,52.4154794]  \n",
       "2                 3  [13.2567496,52.4308445]  \n",
       "3                 4    [13.22047,52.4367907]  \n",
       "4                 5  [13.2596225,52.4173589]  "
      ]
     },
     "metadata": {},
     "output_type": "display_data"
    },
    {
     "name": "stdout",
     "output_type": "stream",
     "text": [
      "\n",
      "Missing values in orders:\n",
      " %DEBITOR%EINSATZSTELLE    0\n",
      "Adresse                   0\n",
      "Ort                       2\n",
      "PLZ                       0\n",
      "%EINSATZSTELLENR          0\n",
      "Location                  2\n",
      "dtype: int64\n"
     ]
    }
   ],
   "source": [
    "locations = load_and_preview_dataset('locations', datafolder, 'einsatzstelle')"
   ]
  },
  {
   "cell_type": "code",
   "execution_count": 49,
   "metadata": {},
   "outputs": [
    {
     "data": {
      "text/html": [
       "<div>\n",
       "<style scoped>\n",
       "    .dataframe tbody tr th:only-of-type {\n",
       "        vertical-align: middle;\n",
       "    }\n",
       "\n",
       "    .dataframe tbody tr th {\n",
       "        vertical-align: top;\n",
       "    }\n",
       "\n",
       "    .dataframe thead th {\n",
       "        text-align: right;\n",
       "    }\n",
       "</style>\n",
       "<table border=\"1\" class=\"dataframe\">\n",
       "  <thead>\n",
       "    <tr style=\"text-align: right;\">\n",
       "      <th></th>\n",
       "      <th>location_number</th>\n",
       "      <th>address</th>\n",
       "      <th>city</th>\n",
       "      <th>zip_code</th>\n",
       "      <th>location_id</th>\n",
       "      <th>coordinates</th>\n",
       "    </tr>\n",
       "  </thead>\n",
       "  <tbody>\n",
       "    <tr>\n",
       "      <th>0</th>\n",
       "      <td>33610</td>\n",
       "      <td>Ringstr. 8A</td>\n",
       "      <td>Berlin</td>\n",
       "      <td>12203</td>\n",
       "      <td>1</td>\n",
       "      <td>[13.3086847,52.4368641]</td>\n",
       "    </tr>\n",
       "    <tr>\n",
       "      <th>1</th>\n",
       "      <td>121533</td>\n",
       "      <td>Stahnsdorfer Damm 12</td>\n",
       "      <td>Berlin</td>\n",
       "      <td>14109</td>\n",
       "      <td>2</td>\n",
       "      <td>[13.1747222,52.4154794]</td>\n",
       "    </tr>\n",
       "    <tr>\n",
       "      <th>2</th>\n",
       "      <td>135160</td>\n",
       "      <td>Anhaltinerstr. 7</td>\n",
       "      <td>Berlin</td>\n",
       "      <td>14163</td>\n",
       "      <td>3</td>\n",
       "      <td>[13.2567496,52.4308445]</td>\n",
       "    </tr>\n",
       "    <tr>\n",
       "      <th>3</th>\n",
       "      <td>137834</td>\n",
       "      <td>Ilsensteinweg 4A</td>\n",
       "      <td>Berlin</td>\n",
       "      <td>14129</td>\n",
       "      <td>4</td>\n",
       "      <td>[13.22047,52.4367907]</td>\n",
       "    </tr>\n",
       "    <tr>\n",
       "      <th>4</th>\n",
       "      <td>118088</td>\n",
       "      <td>Claszeile 75</td>\n",
       "      <td>Berlin</td>\n",
       "      <td>14165</td>\n",
       "      <td>5</td>\n",
       "      <td>[13.2596225,52.4173589]</td>\n",
       "    </tr>\n",
       "  </tbody>\n",
       "</table>\n",
       "</div>"
      ],
      "text/plain": [
       "   location_number               address    city  zip_code  location_id  \\\n",
       "0            33610           Ringstr. 8A  Berlin     12203            1   \n",
       "1           121533  Stahnsdorfer Damm 12  Berlin     14109            2   \n",
       "2           135160      Anhaltinerstr. 7  Berlin     14163            3   \n",
       "3           137834      Ilsensteinweg 4A  Berlin     14129            4   \n",
       "4           118088          Claszeile 75  Berlin     14165            5   \n",
       "\n",
       "               coordinates  \n",
       "0  [13.3086847,52.4368641]  \n",
       "1  [13.1747222,52.4154794]  \n",
       "2  [13.2567496,52.4308445]  \n",
       "3    [13.22047,52.4367907]  \n",
       "4  [13.2596225,52.4173589]  "
      ]
     },
     "metadata": {},
     "output_type": "display_data"
    }
   ],
   "source": [
    "# Rename columns for locations dataset\n",
    "locations = locations.rename(columns={\n",
    "    '%DEBITOR': 'customer_number',\n",
    "    '%DEBITOR%EINSATZSTELLE': 'location_number',\n",
    "    'Adresse': 'address',\n",
    "    'Ort': 'city',\n",
    "    'PLZ': 'zip_code',\n",
    "    '%EINSATZSTELLENR': 'location_id',\n",
    "    'Location': 'coordinates'\n",
    "})\n",
    "display(locations.head())"
   ]
  },
  {
   "cell_type": "markdown",
   "metadata": {},
   "source": [
    "### Tours"
   ]
  },
  {
   "cell_type": "code",
   "execution_count": 50,
   "metadata": {},
   "outputs": [
    {
     "name": "stdout",
     "output_type": "stream",
     "text": [
      "Columns and data types of \"tours\" dataset\n"
     ]
    },
    {
     "data": {
      "text/plain": [
       "%TOURNR            int64\n",
       "Einsatzdatum      object\n",
       "Betriebsstätte    object\n",
       "%Rahmentour        int64\n",
       "Rahmentourcode    object\n",
       "dtype: object"
      ]
     },
     "metadata": {},
     "output_type": "display_data"
    },
    {
     "name": "stdout",
     "output_type": "stream",
     "text": [
      "Number of rows of \"tours\" dataset 138953\n",
      "Head of tours dataset\n"
     ]
    },
    {
     "data": {
      "text/html": [
       "<div>\n",
       "<style scoped>\n",
       "    .dataframe tbody tr th:only-of-type {\n",
       "        vertical-align: middle;\n",
       "    }\n",
       "\n",
       "    .dataframe tbody tr th {\n",
       "        vertical-align: top;\n",
       "    }\n",
       "\n",
       "    .dataframe thead th {\n",
       "        text-align: right;\n",
       "    }\n",
       "</style>\n",
       "<table border=\"1\" class=\"dataframe\">\n",
       "  <thead>\n",
       "    <tr style=\"text-align: right;\">\n",
       "      <th></th>\n",
       "      <th>%TOURNR</th>\n",
       "      <th>Einsatzdatum</th>\n",
       "      <th>Betriebsstätte</th>\n",
       "      <th>%Rahmentour</th>\n",
       "      <th>Rahmentourcode</th>\n",
       "    </tr>\n",
       "  </thead>\n",
       "  <tbody>\n",
       "    <tr>\n",
       "      <th>0</th>\n",
       "      <td>12964</td>\n",
       "      <td>10.11.2023</td>\n",
       "      <td>MONU</td>\n",
       "      <td>1</td>\n",
       "      <td>TP00335</td>\n",
       "    </tr>\n",
       "    <tr>\n",
       "      <th>1</th>\n",
       "      <td>38897</td>\n",
       "      <td>07.02.2022</td>\n",
       "      <td>MONU</td>\n",
       "      <td>1</td>\n",
       "      <td>TP00335</td>\n",
       "    </tr>\n",
       "    <tr>\n",
       "      <th>2</th>\n",
       "      <td>73190</td>\n",
       "      <td>21.10.2022</td>\n",
       "      <td>MONU</td>\n",
       "      <td>1</td>\n",
       "      <td>TP00335</td>\n",
       "    </tr>\n",
       "    <tr>\n",
       "      <th>3</th>\n",
       "      <td>54020</td>\n",
       "      <td>06.08.2021</td>\n",
       "      <td>MONU</td>\n",
       "      <td>1</td>\n",
       "      <td>TP00335</td>\n",
       "    </tr>\n",
       "    <tr>\n",
       "      <th>4</th>\n",
       "      <td>78256</td>\n",
       "      <td>27.01.2023</td>\n",
       "      <td>MONU</td>\n",
       "      <td>1</td>\n",
       "      <td>TP00335</td>\n",
       "    </tr>\n",
       "  </tbody>\n",
       "</table>\n",
       "</div>"
      ],
      "text/plain": [
       "   %TOURNR Einsatzdatum Betriebsstätte  %Rahmentour Rahmentourcode\n",
       "0    12964   10.11.2023           MONU            1        TP00335\n",
       "1    38897   07.02.2022           MONU            1        TP00335\n",
       "2    73190   21.10.2022           MONU            1        TP00335\n",
       "3    54020   06.08.2021           MONU            1        TP00335\n",
       "4    78256   27.01.2023           MONU            1        TP00335"
      ]
     },
     "metadata": {},
     "output_type": "display_data"
    },
    {
     "name": "stdout",
     "output_type": "stream",
     "text": [
      "\n",
      "Missing values in orders:\n",
      " %TOURNR           0\n",
      "Einsatzdatum      0\n",
      "Betriebsstätte    1\n",
      "%Rahmentour       0\n",
      "Rahmentourcode    0\n",
      "dtype: int64\n"
     ]
    }
   ],
   "source": [
    "tours = load_and_preview_dataset('tours', datafolder, 'tour')"
   ]
  },
  {
   "cell_type": "code",
   "execution_count": 51,
   "metadata": {},
   "outputs": [
    {
     "data": {
      "text/html": [
       "<div>\n",
       "<style scoped>\n",
       "    .dataframe tbody tr th:only-of-type {\n",
       "        vertical-align: middle;\n",
       "    }\n",
       "\n",
       "    .dataframe tbody tr th {\n",
       "        vertical-align: top;\n",
       "    }\n",
       "\n",
       "    .dataframe thead th {\n",
       "        text-align: right;\n",
       "    }\n",
       "</style>\n",
       "<table border=\"1\" class=\"dataframe\">\n",
       "  <thead>\n",
       "    <tr style=\"text-align: right;\">\n",
       "      <th></th>\n",
       "      <th>tour_number</th>\n",
       "      <th>service_date</th>\n",
       "      <th>operational_site</th>\n",
       "      <th>reference_tour_number</th>\n",
       "      <th>reference_tour_code</th>\n",
       "    </tr>\n",
       "  </thead>\n",
       "  <tbody>\n",
       "    <tr>\n",
       "      <th>0</th>\n",
       "      <td>12964</td>\n",
       "      <td>10.11.2023</td>\n",
       "      <td>MONU</td>\n",
       "      <td>1</td>\n",
       "      <td>TP00335</td>\n",
       "    </tr>\n",
       "    <tr>\n",
       "      <th>1</th>\n",
       "      <td>38897</td>\n",
       "      <td>07.02.2022</td>\n",
       "      <td>MONU</td>\n",
       "      <td>1</td>\n",
       "      <td>TP00335</td>\n",
       "    </tr>\n",
       "    <tr>\n",
       "      <th>2</th>\n",
       "      <td>73190</td>\n",
       "      <td>21.10.2022</td>\n",
       "      <td>MONU</td>\n",
       "      <td>1</td>\n",
       "      <td>TP00335</td>\n",
       "    </tr>\n",
       "    <tr>\n",
       "      <th>3</th>\n",
       "      <td>54020</td>\n",
       "      <td>06.08.2021</td>\n",
       "      <td>MONU</td>\n",
       "      <td>1</td>\n",
       "      <td>TP00335</td>\n",
       "    </tr>\n",
       "    <tr>\n",
       "      <th>4</th>\n",
       "      <td>78256</td>\n",
       "      <td>27.01.2023</td>\n",
       "      <td>MONU</td>\n",
       "      <td>1</td>\n",
       "      <td>TP00335</td>\n",
       "    </tr>\n",
       "  </tbody>\n",
       "</table>\n",
       "</div>"
      ],
      "text/plain": [
       "   tour_number service_date operational_site  reference_tour_number  \\\n",
       "0        12964   10.11.2023             MONU                      1   \n",
       "1        38897   07.02.2022             MONU                      1   \n",
       "2        73190   21.10.2022             MONU                      1   \n",
       "3        54020   06.08.2021             MONU                      1   \n",
       "4        78256   27.01.2023             MONU                      1   \n",
       "\n",
       "  reference_tour_code  \n",
       "0             TP00335  \n",
       "1             TP00335  \n",
       "2             TP00335  \n",
       "3             TP00335  \n",
       "4             TP00335  "
      ]
     },
     "metadata": {},
     "output_type": "display_data"
    }
   ],
   "source": [
    "# Rename columns for tours dataset\n",
    "tours = tours.rename(columns={\n",
    "    '%TOURNR': 'tour_number',\n",
    "    'Einsatzdatum': 'service_date',\n",
    "    'Betriebsstätte': 'operational_site',\n",
    "    '%Rahmentour': 'reference_tour_number',\n",
    "    'Rahmentourcode': 'reference_tour_code'\n",
    "})\n",
    "display(tours.head())"
   ]
  },
  {
   "cell_type": "markdown",
   "metadata": {},
   "source": [
    "### Claims"
   ]
  },
  {
   "cell_type": "code",
   "execution_count": 52,
   "metadata": {},
   "outputs": [
    {
     "name": "stdout",
     "output_type": "stream",
     "text": [
      "Columns and data types of \"claims\" dataset\n"
     ]
    },
    {
     "name": "stderr",
     "output_type": "stream",
     "text": [
      "/var/folders/k6/4x420cvj75x4mh4djz2pbd900000gp/T/ipykernel_24258/1415859017.py:2: DtypeWarning: Columns (4) have mixed types. Specify dtype option on import or set low_memory=False.\n",
      "  df = pd.read_csv(f'data/{data_folder}/data/{filename}.csv', sep=sep)\n"
     ]
    },
    {
     "data": {
      "text/plain": [
       "%TOURNR                                 int64\n",
       "Belegnr.                               object\n",
       "Reklamationsgrund                       int64\n",
       "Grund                                  object\n",
       "Reklamationsuntergrund Beschreibung    object\n",
       "dtype: object"
      ]
     },
     "metadata": {},
     "output_type": "display_data"
    },
    {
     "name": "stdout",
     "output_type": "stream",
     "text": [
      "Number of rows of \"claims\" dataset 790425\n",
      "Head of claims dataset\n"
     ]
    },
    {
     "data": {
      "text/html": [
       "<div>\n",
       "<style scoped>\n",
       "    .dataframe tbody tr th:only-of-type {\n",
       "        vertical-align: middle;\n",
       "    }\n",
       "\n",
       "    .dataframe tbody tr th {\n",
       "        vertical-align: top;\n",
       "    }\n",
       "\n",
       "    .dataframe thead th {\n",
       "        text-align: right;\n",
       "    }\n",
       "</style>\n",
       "<table border=\"1\" class=\"dataframe\">\n",
       "  <thead>\n",
       "    <tr style=\"text-align: right;\">\n",
       "      <th></th>\n",
       "      <th>%TOURNR</th>\n",
       "      <th>Belegnr.</th>\n",
       "      <th>Reklamationsgrund</th>\n",
       "      <th>Grund</th>\n",
       "      <th>Reklamationsuntergrund Beschreibung</th>\n",
       "    </tr>\n",
       "  </thead>\n",
       "  <tbody>\n",
       "    <tr>\n",
       "      <th>0</th>\n",
       "      <td>160016</td>\n",
       "      <td>A241067066</td>\n",
       "      <td>402</td>\n",
       "      <td>BB Deckel beschädigt</td>\n",
       "      <td>großer Deckel - Hauptdeckel</td>\n",
       "    </tr>\n",
       "    <tr>\n",
       "      <th>1</th>\n",
       "      <td>122761</td>\n",
       "      <td>A240871203</td>\n",
       "      <td>501</td>\n",
       "      <td>Ü Ladestelle beräumt</td>\n",
       "      <td>Mehrmengen mitgenommen (MMM)</td>\n",
       "    </tr>\n",
       "    <tr>\n",
       "      <th>2</th>\n",
       "      <td>97644</td>\n",
       "      <td>A240929593</td>\n",
       "      <td>501</td>\n",
       "      <td>Ü Ladestelle beräumt</td>\n",
       "      <td>Mehrmengen mitgenommen (MMM)</td>\n",
       "    </tr>\n",
       "    <tr>\n",
       "      <th>3</th>\n",
       "      <td>121874</td>\n",
       "      <td>A240803399</td>\n",
       "      <td>501</td>\n",
       "      <td>Ü Ladestelle beräumt</td>\n",
       "      <td>Mehrmengen mitgenommen (MMM)</td>\n",
       "    </tr>\n",
       "    <tr>\n",
       "      <th>4</th>\n",
       "      <td>122263</td>\n",
       "      <td>A240977660</td>\n",
       "      <td>501</td>\n",
       "      <td>Ü Ladestelle beräumt</td>\n",
       "      <td>Mehrmengen mitgenommen (MMM)</td>\n",
       "    </tr>\n",
       "  </tbody>\n",
       "</table>\n",
       "</div>"
      ],
      "text/plain": [
       "   %TOURNR    Belegnr.  Reklamationsgrund                 Grund  \\\n",
       "0   160016  A241067066                402  BB Deckel beschädigt   \n",
       "1   122761  A240871203                501  Ü Ladestelle beräumt   \n",
       "2    97644  A240929593                501  Ü Ladestelle beräumt   \n",
       "3   121874  A240803399                501  Ü Ladestelle beräumt   \n",
       "4   122263  A240977660                501  Ü Ladestelle beräumt   \n",
       "\n",
       "  Reklamationsuntergrund Beschreibung  \n",
       "0         großer Deckel - Hauptdeckel  \n",
       "1        Mehrmengen mitgenommen (MMM)  \n",
       "2        Mehrmengen mitgenommen (MMM)  \n",
       "3        Mehrmengen mitgenommen (MMM)  \n",
       "4        Mehrmengen mitgenommen (MMM)  "
      ]
     },
     "metadata": {},
     "output_type": "display_data"
    },
    {
     "name": "stdout",
     "output_type": "stream",
     "text": [
      "\n",
      "Missing values in orders:\n",
      " %TOURNR                                     0\n",
      "Belegnr.                                    0\n",
      "Reklamationsgrund                           0\n",
      "Grund                                      24\n",
      "Reklamationsuntergrund Beschreibung    557898\n",
      "dtype: int64\n"
     ]
    }
   ],
   "source": [
    "claims = load_and_preview_dataset('claims', datafolder, 'reklamationen')"
   ]
  },
  {
   "cell_type": "code",
   "execution_count": 53,
   "metadata": {},
   "outputs": [],
   "source": [
    "reason_counts = claims['Grund'].value_counts()"
   ]
  },
  {
   "cell_type": "code",
   "execution_count": 54,
   "metadata": {},
   "outputs": [
    {
     "data": {
      "image/png": "[encoded data removed]",
      "text/plain": [
       "<Figure size 800x800 with 1 Axes>"
      ]
     },
     "metadata": {},
     "output_type": "display_data"
    }
   ],
   "source": [
    "# reason_distribution_percentage = claims['Grund'].value_counts(normalize=True) * 100\n",
    "\n",
    "# print(reason_distribution_percentage)\n",
    "\n",
    "top_4 = reason_counts.head(4)\n",
    "others_count = reason_counts[4:].sum()\n",
    "\n",
    "# Create a new Series with top 4 and 'Others'\n",
    "reason_distribution = pd.concat([top_4, pd.Series({'Others': others_count})])\n",
    "\n",
    "# Plot the pie chart\n",
    "plt.figure(figsize=(8, 8))\n",
    "plt.pie(reason_distribution, labels=reason_distribution.index, autopct='%1.1f%%', startangle=140)\n",
    "plt.title('Distribution of \"reason\" Values')\n",
    "plt.axis('equal')  # Equal aspect ratio ensures that pie is drawn as a circle\n",
    "plt.show()\n"
   ]
  },
  {
   "cell_type": "code",
   "execution_count": 55,
   "metadata": {},
   "outputs": [
    {
     "data": {
      "text/html": [
       "<div>\n",
       "<style scoped>\n",
       "    .dataframe tbody tr th:only-of-type {\n",
       "        vertical-align: middle;\n",
       "    }\n",
       "\n",
       "    .dataframe tbody tr th {\n",
       "        vertical-align: top;\n",
       "    }\n",
       "\n",
       "    .dataframe thead th {\n",
       "        text-align: right;\n",
       "    }\n",
       "</style>\n",
       "<table border=\"1\" class=\"dataframe\">\n",
       "  <thead>\n",
       "    <tr style=\"text-align: right;\">\n",
       "      <th></th>\n",
       "      <th>tour_number</th>\n",
       "      <th>claim_number</th>\n",
       "      <th>complaint_reason</th>\n",
       "      <th>complaint_ground</th>\n",
       "      <th>complaint_description</th>\n",
       "    </tr>\n",
       "  </thead>\n",
       "  <tbody>\n",
       "    <tr>\n",
       "      <th>0</th>\n",
       "      <td>160016</td>\n",
       "      <td>A241067066</td>\n",
       "      <td>402</td>\n",
       "      <td>BB Deckel beschädigt</td>\n",
       "      <td>großer Deckel - Hauptdeckel</td>\n",
       "    </tr>\n",
       "    <tr>\n",
       "      <th>1</th>\n",
       "      <td>122761</td>\n",
       "      <td>A240871203</td>\n",
       "      <td>501</td>\n",
       "      <td>Ü Ladestelle beräumt</td>\n",
       "      <td>Mehrmengen mitgenommen (MMM)</td>\n",
       "    </tr>\n",
       "    <tr>\n",
       "      <th>2</th>\n",
       "      <td>97644</td>\n",
       "      <td>A240929593</td>\n",
       "      <td>501</td>\n",
       "      <td>Ü Ladestelle beräumt</td>\n",
       "      <td>Mehrmengen mitgenommen (MMM)</td>\n",
       "    </tr>\n",
       "    <tr>\n",
       "      <th>3</th>\n",
       "      <td>121874</td>\n",
       "      <td>A240803399</td>\n",
       "      <td>501</td>\n",
       "      <td>Ü Ladestelle beräumt</td>\n",
       "      <td>Mehrmengen mitgenommen (MMM)</td>\n",
       "    </tr>\n",
       "    <tr>\n",
       "      <th>4</th>\n",
       "      <td>122263</td>\n",
       "      <td>A240977660</td>\n",
       "      <td>501</td>\n",
       "      <td>Ü Ladestelle beräumt</td>\n",
       "      <td>Mehrmengen mitgenommen (MMM)</td>\n",
       "    </tr>\n",
       "  </tbody>\n",
       "</table>\n",
       "</div>"
      ],
      "text/plain": [
       "   tour_number claim_number  complaint_reason      complaint_ground  \\\n",
       "0       160016   A241067066               402  BB Deckel beschädigt   \n",
       "1       122761   A240871203               501  Ü Ladestelle beräumt   \n",
       "2        97644   A240929593               501  Ü Ladestelle beräumt   \n",
       "3       121874   A240803399               501  Ü Ladestelle beräumt   \n",
       "4       122263   A240977660               501  Ü Ladestelle beräumt   \n",
       "\n",
       "          complaint_description  \n",
       "0   großer Deckel - Hauptdeckel  \n",
       "1  Mehrmengen mitgenommen (MMM)  \n",
       "2  Mehrmengen mitgenommen (MMM)  \n",
       "3  Mehrmengen mitgenommen (MMM)  \n",
       "4  Mehrmengen mitgenommen (MMM)  "
      ]
     },
     "metadata": {},
     "output_type": "display_data"
    }
   ],
   "source": [
    "# Rename columns for claims dataset\n",
    "claims = claims.rename(columns={\n",
    "    '%TOURNR': 'tour_number',\n",
    "    'Belegnr.': 'claim_number',\n",
    "    'Reklamationsgrund': 'complaint_reason',\n",
    "    'Reklamationstyp': 'complaint_type',\n",
    "    'Grund': 'complaint_ground',\n",
    "    'Reklamationsuntergrund Beschreibung': 'complaint_description'\n",
    "})\n",
    "display(claims.head())"
   ]
  },
  {
   "cell_type": "markdown",
   "metadata": {},
   "source": [
    "### Resources"
   ]
  },
  {
   "cell_type": "code",
   "execution_count": 56,
   "metadata": {},
   "outputs": [
    {
     "name": "stdout",
     "output_type": "stream",
     "text": [
      "Columns and data types of \"resources\" dataset\n"
     ]
    },
    {
     "data": {
      "text/plain": [
       "%TOURNR                    int64\n",
       "%Mitarbeiternummer         int64\n",
       "Zeitarbeiter_Flag          int64\n",
       "Ressource.Erster Fahrer    int64\n",
       "dtype: object"
      ]
     },
     "metadata": {},
     "output_type": "display_data"
    },
    {
     "name": "stdout",
     "output_type": "stream",
     "text": [
      "Number of rows of \"resources\" dataset 344277\n",
      "Head of resources dataset\n"
     ]
    },
    {
     "data": {
      "text/html": [
       "<div>\n",
       "<style scoped>\n",
       "    .dataframe tbody tr th:only-of-type {\n",
       "        vertical-align: middle;\n",
       "    }\n",
       "\n",
       "    .dataframe tbody tr th {\n",
       "        vertical-align: top;\n",
       "    }\n",
       "\n",
       "    .dataframe thead th {\n",
       "        text-align: right;\n",
       "    }\n",
       "</style>\n",
       "<table border=\"1\" class=\"dataframe\">\n",
       "  <thead>\n",
       "    <tr style=\"text-align: right;\">\n",
       "      <th></th>\n",
       "      <th>%TOURNR</th>\n",
       "      <th>%Mitarbeiternummer</th>\n",
       "      <th>Zeitarbeiter_Flag</th>\n",
       "      <th>Ressource.Erster Fahrer</th>\n",
       "    </tr>\n",
       "  </thead>\n",
       "  <tbody>\n",
       "    <tr>\n",
       "      <th>0</th>\n",
       "      <td>95350</td>\n",
       "      <td>1</td>\n",
       "      <td>0</td>\n",
       "      <td>1</td>\n",
       "    </tr>\n",
       "    <tr>\n",
       "      <th>1</th>\n",
       "      <td>95350</td>\n",
       "      <td>2</td>\n",
       "      <td>0</td>\n",
       "      <td>0</td>\n",
       "    </tr>\n",
       "    <tr>\n",
       "      <th>2</th>\n",
       "      <td>95351</td>\n",
       "      <td>3</td>\n",
       "      <td>1</td>\n",
       "      <td>0</td>\n",
       "    </tr>\n",
       "    <tr>\n",
       "      <th>3</th>\n",
       "      <td>95351</td>\n",
       "      <td>4</td>\n",
       "      <td>0</td>\n",
       "      <td>1</td>\n",
       "    </tr>\n",
       "    <tr>\n",
       "      <th>4</th>\n",
       "      <td>95351</td>\n",
       "      <td>5</td>\n",
       "      <td>0</td>\n",
       "      <td>0</td>\n",
       "    </tr>\n",
       "  </tbody>\n",
       "</table>\n",
       "</div>"
      ],
      "text/plain": [
       "   %TOURNR  %Mitarbeiternummer  Zeitarbeiter_Flag  Ressource.Erster Fahrer\n",
       "0    95350                   1                  0                        1\n",
       "1    95350                   2                  0                        0\n",
       "2    95351                   3                  1                        0\n",
       "3    95351                   4                  0                        1\n",
       "4    95351                   5                  0                        0"
      ]
     },
     "metadata": {},
     "output_type": "display_data"
    },
    {
     "name": "stdout",
     "output_type": "stream",
     "text": [
      "\n",
      "Missing values in orders:\n",
      " %TOURNR                    0\n",
      "%Mitarbeiternummer         0\n",
      "Zeitarbeiter_Flag          0\n",
      "Ressource.Erster Fahrer    0\n",
      "dtype: int64\n"
     ]
    }
   ],
   "source": [
    "resources = load_and_preview_dataset('resources', datafolder, 'ressource')"
   ]
  },
  {
   "cell_type": "code",
   "execution_count": 57,
   "metadata": {},
   "outputs": [
    {
     "data": {
      "text/html": [
       "<div>\n",
       "<style scoped>\n",
       "    .dataframe tbody tr th:only-of-type {\n",
       "        vertical-align: middle;\n",
       "    }\n",
       "\n",
       "    .dataframe tbody tr th {\n",
       "        vertical-align: top;\n",
       "    }\n",
       "\n",
       "    .dataframe thead th {\n",
       "        text-align: right;\n",
       "    }\n",
       "</style>\n",
       "<table border=\"1\" class=\"dataframe\">\n",
       "  <thead>\n",
       "    <tr style=\"text-align: right;\">\n",
       "      <th></th>\n",
       "      <th>tour_number</th>\n",
       "      <th>employee_number</th>\n",
       "      <th>temporary_worker_flag</th>\n",
       "      <th>primary_driver</th>\n",
       "    </tr>\n",
       "  </thead>\n",
       "  <tbody>\n",
       "    <tr>\n",
       "      <th>0</th>\n",
       "      <td>95350</td>\n",
       "      <td>1</td>\n",
       "      <td>0</td>\n",
       "      <td>1</td>\n",
       "    </tr>\n",
       "    <tr>\n",
       "      <th>1</th>\n",
       "      <td>95350</td>\n",
       "      <td>2</td>\n",
       "      <td>0</td>\n",
       "      <td>0</td>\n",
       "    </tr>\n",
       "    <tr>\n",
       "      <th>2</th>\n",
       "      <td>95351</td>\n",
       "      <td>3</td>\n",
       "      <td>1</td>\n",
       "      <td>0</td>\n",
       "    </tr>\n",
       "    <tr>\n",
       "      <th>3</th>\n",
       "      <td>95351</td>\n",
       "      <td>4</td>\n",
       "      <td>0</td>\n",
       "      <td>1</td>\n",
       "    </tr>\n",
       "    <tr>\n",
       "      <th>4</th>\n",
       "      <td>95351</td>\n",
       "      <td>5</td>\n",
       "      <td>0</td>\n",
       "      <td>0</td>\n",
       "    </tr>\n",
       "  </tbody>\n",
       "</table>\n",
       "</div>"
      ],
      "text/plain": [
       "   tour_number  employee_number  temporary_worker_flag  primary_driver\n",
       "0        95350                1                      0               1\n",
       "1        95350                2                      0               0\n",
       "2        95351                3                      1               0\n",
       "3        95351                4                      0               1\n",
       "4        95351                5                      0               0"
      ]
     },
     "metadata": {},
     "output_type": "display_data"
    }
   ],
   "source": [
    "# Rename columns for ressources dataset\n",
    "resources = resources.rename(columns={\n",
    "    '%TOURNR': 'tour_number',\n",
    "    '%Mitarbeiternummer': 'employee_number',\n",
    "    'Zeitarbeiter_Flag': 'temporary_worker_flag',\n",
    "    'Ressource.Erster Fahrer': 'primary_driver'\n",
    "})\n",
    "display(resources.head())"
   ]
  },
  {
   "cell_type": "code",
   "execution_count": 58,
   "metadata": {},
   "outputs": [
    {
     "data": {
      "text/plain": [
       "temporary_worker_flag\n",
       "0    275556\n",
       "1     68721\n",
       "Name: count, dtype: int64"
      ]
     },
     "execution_count": 58,
     "metadata": {},
     "output_type": "execute_result"
    }
   ],
   "source": [
    "import matplotlib.pyplot as plt\n",
    "\n",
    "# Count the occurrences of each 'temporary_worker_flag' value\n",
    "temporary_worker_counts = resources['temporary_worker_flag'].value_counts()\n",
    "\n",
    "temporary_worker_counts"
   ]
  },
  {
   "cell_type": "code",
   "execution_count": 59,
   "metadata": {},
   "outputs": [
    {
     "data": {
      "image/png": "[encoded data removed]",
      "text/plain": [
       "<Figure size 800x800 with 1 Axes>"
      ]
     },
     "metadata": {},
     "output_type": "display_data"
    }
   ],
   "source": [
    "\n",
    "# Plot the pie chart\n",
    "plt.figure(figsize=(8, 8))\n",
    "plt.pie(temporary_worker_counts, labels=temporary_worker_counts.index, autopct='%1.1f%%', startangle=140)\n",
    "plt.title('Distribution of Temporary Worker Flag')\n",
    "plt.axis('equal')  # Equal aspect ratio ensures that pie is drawn as a circle\n",
    "plt.show()"
   ]
  },
  {
   "cell_type": "markdown",
   "metadata": {},
   "source": [
    "## Current (2024-04-03) asssessment (GPT-guided) regarding data quality \n",
    "\n",
    "### General note for all challenges: Having data for more than one year (ideally 4-5 years at least) would be very beneficial to also include seasonal patterns/effects during the exploration and training phase. \n",
    "\n",
    "### Challenge 1 (Health improvements, Decrease in sickness and absence)\n",
    "#### Confidence level (given the data structure and current number of rows provided)\n",
    "Medium to High. The the number of rows across datasets provides a solid foundation for robust analysis and model development.\n",
    "\n",
    "#### Which additional internal data (extra columns or even extra tables) are the most critical ones to improve the confidence even further?\n",
    "* Detailed absence reasons to better understand health-related issues.\n",
    "* Employee engagement and satisfaction surveys for a holistic view of well-being.\n",
    "* Historical workload data to correlate with absence patterns.\n",
    "\n",
    "#### Which (ideally publicly available) additional data sets could be interesting to improve the implementation (e.g. accuracy of the ML model) even further? \n",
    "* Public health statistics to correlate with absence trends.\n",
    "* Industry benchmarks for health and safety to gauge performance against peers.\n",
    "\n",
    "### Challenge 2 (Predict the probability of tour cancellations)\n",
    "#### Confidence level (given the data structure and current number of rows provided)\n",
    "Medium to High. The datasets provide a robust basis for predictive modeling.\n",
    "\n",
    "#### Which additional internal data (extra columns or even extra tables) are the most critical ones to improve the confidence even further?\n",
    "* Specific reasons for cancellations and detailed customer feedback for deeper insight.\n",
    "* Historical data on customer interactions, potentially highlighting patterns leading to cancellations.\n",
    "\n",
    "#### Which (ideally publicly available) additional data sets could be interesting to improve the implementation (e.g. accuracy of the ML model) even further? \n",
    "* Economic indicators that could affect cancellation rates.\n",
    "* Public transport disruptions, which could influence the ability to fulfill orders.\n",
    "\n",
    "### Challenge 3 (Dynamic rescheduling of schedules in the event of short-term changes)\n",
    "#### Confidence level (given the data structure and current number of rows provided)\n",
    "Medium to High. The data volume provides a solid basis for developing dynamic scheduling models.\n",
    "\n",
    "#### Which additional internal data (extra columns or even extra tables) are the most critical ones to improve the confidence even further?\n",
    "* Real-time status updates on orders, resources, and traffic conditions.\n",
    "* Feedback loops from completed tours for continuous improvement.\n",
    "\n",
    "#### Which (ideally publicly available) additional data sets could be interesting to improve the implementation (e.g. accuracy of the ML model) even further? \n",
    "* Real-time traffic flow data.\n",
    "* Weather forecast data for planning around environmental conditions."
   ]
  },
  {
   "cell_type": "markdown",
   "metadata": {},
   "source": [
    "## Additional questions about data availability etc to Berlin Recyling (identified during call with Martin Mierke from Capgemini, 2024-04-08)\n",
    "\n",
    "### Overall requests:\n",
    "* collecting and alignment on final list of core business constraints/rules, like \"at least one driver is needed and xy other roles per tour\" or \"a tour always starts at xyz and returns to abc\"\n",
    " \n",
    "### Additional clarification about business constraints/rules\n",
    "* can we utilize employees on multiple tours\n",
    "* What kind of different truck types are there?\n",
    "* What bin sizes are there?\n",
    "* Do they all start from the same headquarter? Or can tours start/end at different head quarters\n",
    "* are employees connected to different work units  i.e. starting their day somewhere\n",
    "* Is there any kind of employee satisfaction data already (e.g. for better labeled data for supervised data)? \n",
    "\n",
    "### Additional data requests or ideas how to derive them\n",
    "* historical data about requested and rejected vacation processes (as labeled data, to find correlations to other patterns)\n",
    "* Truck and bin sizes (if there are different ones)\n",
    "* Data about the difficulty of a tour / location\n",
    "* Restrictions like “this worker can only be assigned to locations xyz”\n",
    "* Information about which employees are able to drive\n",
    "\n",
    "### Additional questions\n",
    "* How could we predict if someone will miss a tour\n"
   ]
  },
  {
   "cell_type": "code",
   "execution_count": null,
   "metadata": {},
   "outputs": [],
   "source": []
  },
  {
   "cell_type": "code",
   "execution_count": null,
   "metadata": {},
   "outputs": [],
   "source": []
  }
 ],
 "metadata": {
  "kaggle": {
   "accelerator": "none",
   "dataSources": [
    {
     "datasetId": 4644482,
     "sourceId": 7906748,
     "sourceType": "datasetVersion"
    },
    {
     "datasetId": 4725591,
     "sourceId": 8019819,
     "sourceType": "datasetVersion"
    }
   ],
   "dockerImageVersionId": 30673,
   "isGpuEnabled": false,
   "isInternetEnabled": false,
   "language": "python",
   "sourceType": "notebook"
  },
  "kernelspec": {
   "display_name": "Python 3 (ipykernel)",
   "language": "python",
   "name": "python3"
  },
  "language_info": {
   "codemirror_mode": {
    "name": "ipython",
    "version": 3
   },
   "file_extension": ".py",
   "mimetype": "text/x-python",
   "name": "python",
   "nbconvert_exporter": "python",
   "pygments_lexer": "ipython3",
   "version": "3.11.7"
  }
 },
 "nbformat": 4,
 "nbformat_minor": 4
}
